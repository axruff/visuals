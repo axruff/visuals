{
 "cells": [
  {
   "cell_type": "code",
   "execution_count": 62,
   "metadata": {},
   "outputs": [
    {
     "name": "stdout",
     "output_type": "stream",
     "text": [
      "The autoreload extension is already loaded. To reload it, use:\n",
      "  %reload_ext autoreload\n"
     ]
    }
   ],
   "source": [
    "import SimpleITK as sitk\r\n",
    "\r\n",
    "import numpy as np\r\n",
    "import matplotlib.pyplot as plt\r\n",
    "import gui\r\n",
    "from math import ceil\r\n",
    "#from downloaddata import fetch_data as fdata\r\n",
    "\r\n",
    "from gui import MultiImageDisplay as vshow\r\n",
    "from myshow import myshow, myshow3d\r\n",
    "\r\n",
    "#%matplotlib notebook\r\n",
    "%load_ext autoreload"
   ]
  },
  {
   "cell_type": "code",
   "execution_count": 49,
   "metadata": {},
   "outputs": [],
   "source": [
    "label_name = 'heartandkidney_corr_1095_dimorph01.nrrd'\r\n",
    "image_name = '1095_14-2_align_crop_scale.tif'\r\n",
    "label = sitk.ReadImage(label_name, outputPixelType=sitk.sitkUInt8)\r\n",
    "#label = sitk.ReadImage(label_name)\r\n",
    "image = sitk.ReadImage(image_name)"
   ]
  },
  {
   "cell_type": "code",
   "execution_count": 50,
   "metadata": {},
   "outputs": [],
   "source": [
    "# Fix noisy label with grey value 3\r\n",
    "label = label - (label == 3) * 3"
   ]
  },
  {
   "cell_type": "markdown",
   "metadata": {},
   "source": [
    "# Simple View"
   ]
  },
  {
   "cell_type": "code",
   "execution_count": null,
   "metadata": {},
   "outputs": [],
   "source": [
    "blended = sitk.LabelOverlay(image=image, \r\n",
    "                                     labelImage=label,\r\n",
    "                                     opacity=0.5, backgroundValue=0)\r\n",
    "\r\n",
    "contour = sitk.LabelToRGB(sitk.LabelContour(label, fullyConnected=True, backgroundValue=0), \r\n",
    "                                 backgroundValue=0)\r\n",
    "\r\n",
    "contour_overlay = sitk.LabelOverlay(image=image, \r\n",
    "                                     labelImage=sitk.LabelContour(label, fullyConnected=True, backgroundValue=0),\r\n",
    "                                     opacity=0.5, backgroundValue=0)\r\n",
    "    "
   ]
  },
  {
   "cell_type": "code",
   "execution_count": 52,
   "metadata": {},
   "outputs": [
    {
     "data": {
      "application/vnd.jupyter.widget-view+json": {
       "model_id": "445cab000c8f4dc88a1fb68d26b65b37",
       "version_major": 2,
       "version_minor": 0
      },
      "text/plain": [
       "VBox(children=(Box(children=(IntSlider(value=340, description='image slice:', max=680),)), Box(children=(IntRa…"
      ]
     },
     "metadata": {},
     "output_type": "display_data"
    },
    {
     "data": {
      "application/vnd.jupyter.widget-view+json": {
       "model_id": "c880ca50b5e1485aa5e3ad142b0df44b",
       "version_major": 2,
       "version_minor": 0
      },
      "text/plain": [
       "Canvas(toolbar=Toolbar(toolitems=[('Home', 'Reset original view', 'home', 'home'), ('Back', 'Back to previous …"
      ]
     },
     "metadata": {},
     "output_type": "display_data"
    },
    {
     "data": {
      "text/plain": [
       "<gui.MultiImageDisplay at 0x26282f05bb0>"
      ]
     },
     "execution_count": 52,
     "metadata": {},
     "output_type": "execute_result"
    }
   ],
   "source": [
    "#img = sitk.ReadImage(fdata(\"fib_sem_bacillus_subtilis.mha\"))\r\n",
    "%matplotlib widget                                 \r\n",
    "\r\n",
    "images = []\r\n",
    "#images.append(image)\r\n",
    "#images.append(label)\r\n",
    "#images.append(sitk.LabelToRGB(label))\r\n",
    "images.append(blended)\r\n",
    "#images.append(contour)\r\n",
    "images.append(contour_overlay)\r\n",
    "\r\n",
    "gui.MultiImageDisplay(image_list = images, figure_size=(8,4), shared_slider=True)"
   ]
  },
  {
   "cell_type": "markdown",
   "metadata": {},
   "source": [
    "# 3D Viewer"
   ]
  },
  {
   "cell_type": "code",
   "execution_count": null,
   "metadata": {},
   "outputs": [],
   "source": [
    "from itkwidgets import view"
   ]
  },
  {
   "cell_type": "code",
   "execution_count": null,
   "metadata": {},
   "outputs": [],
   "source": [
    "view(image)"
   ]
  },
  {
   "cell_type": "markdown",
   "metadata": {},
   "source": [
    "# 3D Filters"
   ]
  },
  {
   "cell_type": "code",
   "execution_count": 46,
   "metadata": {},
   "outputs": [
    {
     "data": {
      "application/vnd.jupyter.widget-view+json": {
       "model_id": "0dc0423e6a9b46068af58c483d858c6e",
       "version_major": 2,
       "version_minor": 0
      },
      "text/plain": [
       "VBox(children=(Box(children=(IntSlider(value=340, description='image slice:', max=680),)), Box(children=(IntRa…"
      ]
     },
     "metadata": {},
     "output_type": "display_data"
    },
    {
     "data": {
      "application/vnd.jupyter.widget-view+json": {
       "model_id": "5ab1efa14fbc43efa5b7836beac530f0",
       "version_major": 2,
       "version_minor": 0
      },
      "text/plain": [
       "Canvas(toolbar=Toolbar(toolitems=[('Home', 'Reset original view', 'home', 'home'), ('Back', 'Back to previous …"
      ]
     },
     "metadata": {},
     "output_type": "display_data"
    },
    {
     "data": {
      "text/plain": [
       "<gui.MultiImageDisplay at 0x2628265cdf0>"
      ]
     },
     "execution_count": 46,
     "metadata": {},
     "output_type": "execute_result"
    }
   ],
   "source": [
    "my_dictionary = {5:9, 9:5}\r\n",
    "\r\n",
    "new_label = sitk.ChangeLabel(label, my_dictionary)\r\n",
    "\r\n",
    "vshow(image_list = [image, new_label], figure_size=(8,4), shared_slider=True)"
   ]
  },
  {
   "cell_type": "code",
   "execution_count": 57,
   "metadata": {},
   "outputs": [
    {
     "data": {
      "application/vnd.jupyter.widget-view+json": {
       "model_id": "72d3a6c47413402b96bc9df456912c76",
       "version_major": 2,
       "version_minor": 0
      },
      "text/plain": [
       "VBox(children=(Box(children=(IntSlider(value=340, description='image slice:', max=680),)), Box(children=(IntRa…"
      ]
     },
     "metadata": {},
     "output_type": "display_data"
    },
    {
     "data": {
      "application/vnd.jupyter.widget-view+json": {
       "model_id": "fa42ff75e25948b38194f67c8efbee5c",
       "version_major": 2,
       "version_minor": 0
      },
      "text/plain": [
       "Canvas(toolbar=Toolbar(toolitems=[('Home', 'Reset original view', 'home', 'home'), ('Back', 'Back to previous …"
      ]
     },
     "metadata": {},
     "output_type": "display_data"
    },
    {
     "data": {
      "text/plain": [
       "<gui.MultiImageDisplay at 0x2628265e670>"
      ]
     },
     "execution_count": 57,
     "metadata": {},
     "output_type": "execute_result"
    }
   ],
   "source": [
    "im2 = sitk.BinaryThreshold(image, 150, 230)\r\n",
    "vshow([im2], figure_size=(2,2))"
   ]
  },
  {
   "cell_type": "code",
   "execution_count": 63,
   "metadata": {},
   "outputs": [
    {
     "data": {
      "application/vnd.jupyter.widget-view+json": {
       "model_id": "e3060657261c4db58588e04569e77723",
       "version_major": 2,
       "version_minor": 0
      },
      "text/plain": [
       "Canvas(toolbar=Toolbar(toolitems=[('Home', 'Reset original view', 'home', 'home'), ('Back', 'Back to previous …"
      ]
     },
     "metadata": {},
     "output_type": "display_data"
    }
   ],
   "source": [
    "rgb_img = sitk.ReadImage(\"coins.png\")\r\n",
    "img = sitk.VectorIndexSelectionCast(rgb_img,1)\r\n",
    "\r\n",
    "feature_img = sitk.GradientMagnitudeRecursiveGaussian(img, sigma=1.5\r\n",
    "\r\n",
    "myshow(rgb_img, \"coins.png\")"
   ]
  },
  {
   "cell_type": "code",
   "execution_count": null,
   "metadata": {},
   "outputs": [],
   "source": []
  }
 ],
 "metadata": {
  "interpreter": {
   "hash": "a44f62bfe310e58cc30aa77b22692f7d16881046dcf84271656705d1bde076db"
  },
  "kernelspec": {
   "display_name": "Python 3",
   "language": "python",
   "name": "python3"
  },
  "language_info": {
   "codemirror_mode": {
    "name": "ipython",
    "version": 3
   },
   "file_extension": ".py",
   "mimetype": "text/x-python",
   "name": "python",
   "nbconvert_exporter": "python",
   "pygments_lexer": "ipython3",
   "version": "3.8.5"
  }
 },
 "nbformat": 4,
 "nbformat_minor": 4
}
