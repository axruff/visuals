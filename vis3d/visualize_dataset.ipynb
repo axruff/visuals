{
 "cells": [
  {
   "cell_type": "code",
   "execution_count": 1,
   "metadata": {},
   "outputs": [],
   "source": [
    "import SimpleITK as sitk\n",
    "\n",
    "import numpy as np\n",
    "import matplotlib.pyplot as plt\n",
    "import gui\n",
    "from math import ceil\n",
    "#from downloaddata import fetch_data as fdata\n",
    "\n",
    "#%matplotlib notebook\n",
    "%load_ext autoreload"
   ]
  },
  {
   "cell_type": "code",
   "execution_count": 2,
   "metadata": {},
   "outputs": [],
   "source": [
    "label_name = 'heartandkidney_corr_1095_dimorph01.nrrd'\n",
    "image_name = '1095_14-2_align_crop_scale.tif'\n",
    "\n",
    "#label = sitk.ReadImage(label_name, outputPixelType=sitk.sitkUInt8)\n",
    "label = sitk.ReadImage(label_name)\n",
    "image = sitk.ReadImage(image_name)"
   ]
  },
  {
   "cell_type": "markdown",
   "metadata": {},
   "source": [
    "# Simple View"
   ]
  },
  {
   "cell_type": "code",
   "execution_count": 20,
   "metadata": {},
   "outputs": [
    {
     "data": {
      "application/vnd.jupyter.widget-view+json": {
       "model_id": "5f0c333ddee44dcb81f8bcf4e14591b1",
       "version_major": 2,
       "version_minor": 0
      },
      "text/plain": [
       "VBox(children=(Box(children=(IntSlider(value=340, description='image slice:', max=680),)), Box(children=(IntRa…"
      ]
     },
     "metadata": {},
     "output_type": "display_data"
    },
    {
     "data": {
      "application/vnd.jupyter.widget-view+json": {
       "model_id": "4a2a3b081e89468d85d978547d3c7d91",
       "version_major": 2,
       "version_minor": 0
      },
      "text/plain": [
       "Canvas(toolbar=Toolbar(toolitems=[('Home', 'Reset original view', 'home', 'home'), ('Back', 'Back to previous …"
      ]
     },
     "metadata": {},
     "output_type": "display_data"
    },
    {
     "data": {
      "text/plain": [
       "<gui.MultiImageDisplay at 0x2169586c430>"
      ]
     },
     "execution_count": 20,
     "metadata": {},
     "output_type": "execute_result"
    }
   ],
   "source": [
    "#img = sitk.ReadImage(fdata(\"fib_sem_bacillus_subtilis.mha\"))\n",
    "%matplotlib widget\n",
    "\n",
    "blended = sitk.LabelOverlay(image=image, \n",
    "                                     labelImage=label,\n",
    "                                     opacity=0.5, backgroundValue=0)\n",
    "\n",
    "contour = sitk.LabelToRGB(sitk.LabelContour(label, fullyConnected=True, backgroundValue=0), \n",
    "                                 backgroundValue=0)\n",
    "\n",
    "contour_overlay = sitk.LabelOverlay(image=image, \n",
    "                                     labelImage=sitk.LabelContour(label, fullyConnected=True, backgroundValue=0),\n",
    "                                     opacity=0.5, backgroundValue=0)\n",
    "                                    \n",
    "\n",
    "images = []\n",
    "#images.append(image)\n",
    "#images.append(label)\n",
    "#images.append(sitk.LabelToRGB(label))\n",
    "images.append(blended)\n",
    "#images.append(contour)\n",
    "images.append(contour_overlay)\n",
    "\n",
    "gui.MultiImageDisplay(image_list = images, figure_size=(8,4), shared_slider=True)"
   ]
  },
  {
   "cell_type": "markdown",
   "metadata": {},
   "source": [
    "# 3D Viewer"
   ]
  },
  {
   "cell_type": "code",
   "execution_count": 7,
   "metadata": {},
   "outputs": [],
   "source": [
    "from itkwidgets import view"
   ]
  },
  {
   "cell_type": "code",
   "execution_count": 8,
   "metadata": {},
   "outputs": [
    {
     "data": {
      "application/vnd.jupyter.widget-view+json": {
       "model_id": "8c7954ba144844468ab9015c72cdeeda",
       "version_major": 2,
       "version_minor": 0
      },
      "text/plain": [
       "Viewer(geometries=[], gradient_opacity=0.22, point_sets=[], rendered_image=<itk.itkImagePython.itkImageUC3; pr…"
      ]
     },
     "metadata": {},
     "output_type": "display_data"
    }
   ],
   "source": [
    "view(image)"
   ]
  },
  {
   "cell_type": "code",
   "execution_count": null,
   "metadata": {},
   "outputs": [],
   "source": []
  }
 ],
 "metadata": {
  "kernelspec": {
   "display_name": "Python 3",
   "language": "python",
   "name": "python3"
  },
  "language_info": {
   "codemirror_mode": {
    "name": "ipython",
    "version": 3
   },
   "file_extension": ".py",
   "mimetype": "text/x-python",
   "name": "python",
   "nbconvert_exporter": "python",
   "pygments_lexer": "ipython3",
   "version": "3.8.5"
  }
 },
 "nbformat": 4,
 "nbformat_minor": 4
}
