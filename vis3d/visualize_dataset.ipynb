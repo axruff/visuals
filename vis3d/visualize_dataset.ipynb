{
 "cells": [
  {
   "cell_type": "code",
   "execution_count": 1,
   "metadata": {},
   "outputs": [],
   "source": [
    "import SimpleITK as sitk\n",
    "\n",
    "import numpy as np\n",
    "import matplotlib.pyplot as plt\n",
    "import gui\n",
    "from math import ceil\n",
    "from downloaddata import fetch_data as fdata\n",
    "\n",
    "#%matplotlib notebook\n",
    "%load_ext autoreload"
   ]
  },
  {
   "cell_type": "code",
   "execution_count": 10,
   "metadata": {},
   "outputs": [
    {
     "name": "stdout",
     "output_type": "stream",
     "text": [
      "8-bit unsigned integer\n",
      "16-bit unsigned integer\n"
     ]
    }
   ],
   "source": [
    "label_name = 'heartandkidney_corr_1095_dimorph01.nrrd'\n",
    "image_name = '1095_14-2_align_crop_scale.tif'\n",
    "\n",
    "#label = sitk.ReadImage(label_name, outputPixelType=sitk.sitkUInt8)\n",
    "label = sitk.ReadImage(label_name)\n",
    "image = sitk.ReadImage(image_name)\n",
    "\n",
    "print(image.GetPixelIDTypeAsString())\n",
    "print(label.GetPixelIDTypeAsString())\n"
   ]
  },
  {
   "cell_type": "code",
   "execution_count": 9,
   "metadata": {},
   "outputs": [
    {
     "name": "stdout",
     "output_type": "stream",
     "text": [
      "Min max: [0, 255]\n",
      "Min max: [0, 10]\n"
     ]
    },
    {
     "data": {
      "application/vnd.jupyter.widget-view+json": {
       "model_id": "20ef841b6a85474092e056d678b05199",
       "version_major": 2,
       "version_minor": 0
      },
      "text/plain": [
       "VBox(children=(Box(children=(IntSlider(value=340, description='image slice:', max=680),)), Box(children=(IntRa…"
      ]
     },
     "metadata": {},
     "output_type": "display_data"
    },
    {
     "data": {
      "application/vnd.jupyter.widget-view+json": {
       "model_id": "7c972c067dea405ea1a3964752a06412",
       "version_major": 2,
       "version_minor": 0
      },
      "text/plain": [
       "Canvas(toolbar=Toolbar(toolitems=[('Home', 'Reset original view', 'home', 'home'), ('Back', 'Back to previous …"
      ]
     },
     "metadata": {},
     "output_type": "display_data"
    },
    {
     "data": {
      "text/plain": [
       "<gui.MultiImageDisplay at 0x2300747ad90>"
      ]
     },
     "execution_count": 9,
     "metadata": {},
     "output_type": "execute_result"
    }
   ],
   "source": [
    "#img = sitk.ReadImage(fdata(\"fib_sem_bacillus_subtilis.mha\"))\n",
    "%matplotlib widget\n",
    "gui.MultiImageDisplay(image_list = [image, label], figure_size=(8,4), shared_slider=True)"
   ]
  },
  {
   "cell_type": "code",
   "execution_count": 7,
   "metadata": {},
   "outputs": [],
   "source": [
    "from itkwidgets import view"
   ]
  },
  {
   "cell_type": "code",
   "execution_count": 8,
   "metadata": {},
   "outputs": [
    {
     "data": {
      "application/vnd.jupyter.widget-view+json": {
       "model_id": "54b8fa593a82475f9f43784da5e4a6c1",
       "version_major": 2,
       "version_minor": 0
      },
      "text/plain": [
       "Viewer(geometries=[], gradient_opacity=0.22, point_sets=[], rendered_image=<itk.itkImagePython.itkImageUC3; pr…"
      ]
     },
     "metadata": {},
     "output_type": "display_data"
    }
   ],
   "source": [
    "view(image)"
   ]
  },
  {
   "cell_type": "code",
   "execution_count": null,
   "metadata": {},
   "outputs": [],
   "source": []
  }
 ],
 "metadata": {
  "kernelspec": {
   "display_name": "Python 3",
   "language": "python",
   "name": "python3"
  },
  "language_info": {
   "codemirror_mode": {
    "name": "ipython",
    "version": 3
   },
   "file_extension": ".py",
   "mimetype": "text/x-python",
   "name": "python",
   "nbconvert_exporter": "python",
   "pygments_lexer": "ipython3",
   "version": "3.8.5"
  }
 },
 "nbformat": 4,
 "nbformat_minor": 4
}
