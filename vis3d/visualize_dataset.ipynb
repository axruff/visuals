{
 "cells": [
  {
   "cell_type": "code",
   "execution_count": null,
   "metadata": {},
   "outputs": [],
   "source": [
    "import SimpleITK as sitk\n",
    "\n",
    "import numpy as np\n",
    "import matplotlib.pyplot as plt\n",
    "import gui\n",
    "from math import ceil\n",
    "#from downloaddata import fetch_data as fdata\n",
    "\n",
    "from gui import MultiImageDisplay as vshow\n",
    "\n",
    "#%matplotlib notebook\n",
    "%load_ext autoreload"
   ]
  },
  {
   "cell_type": "code",
   "execution_count": null,
   "metadata": {},
   "outputs": [],
   "source": [
    "label_name = 'heartandkidney_corr_1095_dimorph01.nrrd'\r\n",
    "image_name = '1095_14-2_align_crop_scale.tif'\r\n",
    "label = sitk.ReadImage(label_name, outputPixelType=sitk.sitkUInt8)\r\n",
    "#label = sitk.ReadImage(label_name)\r\n",
    "image = sitk.ReadImage(image_name)"
   ]
  },
  {
   "cell_type": "markdown",
   "metadata": {},
   "source": [
    "# Simple View"
   ]
  },
  {
   "cell_type": "code",
   "execution_count": null,
   "metadata": {},
   "outputs": [],
   "source": [
    "blended = sitk.LabelOverlay(image=image, \r\n",
    "                                     labelImage=label,\r\n",
    "                                     opacity=0.5, backgroundValue=0)\r\n",
    "\r\n",
    "contour = sitk.LabelToRGB(sitk.LabelContour(label, fullyConnected=True, backgroundValue=0), \r\n",
    "                                 backgroundValue=0)\r\n",
    "\r\n",
    "contour_overlay = sitk.LabelOverlay(image=image, \r\n",
    "                                     labelImage=sitk.LabelContour(label, fullyConnected=True, backgroundValue=0),\r\n",
    "                                     opacity=0.5, backgroundValue=0)\r\n",
    "    "
   ]
  },
  {
   "cell_type": "code",
   "execution_count": 31,
   "metadata": {},
   "outputs": [
    {
     "data": {
      "application/vnd.jupyter.widget-view+json": {
       "model_id": "4786bf4833784225a3826c52cbdf0df1",
       "version_major": 2,
       "version_minor": 0
      },
      "text/plain": [
       "VBox(children=(Box(children=(IntSlider(value=340, description='image slice:', max=680),)), Box(children=(IntRa…"
      ]
     },
     "metadata": {},
     "output_type": "display_data"
    },
    {
     "data": {
      "application/vnd.jupyter.widget-view+json": {
       "model_id": "969c72bf471b4ca9b01c95a1e12593bb",
       "version_major": 2,
       "version_minor": 0
      },
      "text/plain": [
       "Canvas(toolbar=Toolbar(toolitems=[('Home', 'Reset original view', 'home', 'home'), ('Back', 'Back to previous …"
      ]
     },
     "metadata": {},
     "output_type": "display_data"
    },
    {
     "data": {
      "text/plain": [
       "<gui.MultiImageDisplay at 0x262daea3e80>"
      ]
     },
     "execution_count": 31,
     "metadata": {},
     "output_type": "execute_result"
    }
   ],
   "source": [
    "#img = sitk.ReadImage(fdata(\"fib_sem_bacillus_subtilis.mha\"))\r\n",
    "%matplotlib widget                                 \r\n",
    "\r\n",
    "images = []\r\n",
    "images.append(image)\r\n",
    "images.append(label)\r\n",
    "#images.append(sitk.LabelToRGB(label))\r\n",
    "#images.append(blended)\r\n",
    "#images.append(contour)\r\n",
    "#images.append(contour_overlay)\r\n",
    "\r\n",
    "gui.MultiImageDisplay(image_list = images, figure_size=(8,4), shared_slider=True)"
   ]
  },
  {
   "cell_type": "markdown",
   "metadata": {},
   "source": [
    "# 3D Viewer"
   ]
  },
  {
   "cell_type": "code",
   "execution_count": null,
   "metadata": {},
   "outputs": [],
   "source": [
    "from itkwidgets import view"
   ]
  },
  {
   "cell_type": "code",
   "execution_count": null,
   "metadata": {},
   "outputs": [],
   "source": [
    "view(image)"
   ]
  },
  {
   "cell_type": "markdown",
   "metadata": {},
   "source": [
    "# 3D Filters"
   ]
  },
  {
   "cell_type": "code",
   "execution_count": null,
   "metadata": {},
   "outputs": [],
   "source": [
    "my_dictionary = {5:9, 9:5}\r\n",
    "\r\n",
    "new_label = sitk.ChangeLabel(label, my_dictionary)\r\n",
    "\r\n",
    "new_label = new_label - (new_label == 3) * 3\r\n",
    "vshow(image_list = [image, new_label], figure_size=(8,4), shared_slider=True)"
   ]
  },
  {
   "cell_type": "code",
   "execution_count": 32,
   "metadata": {},
   "outputs": [],
   "source": [
    "x = 1\r\n",
    "y = 2\r\n",
    "z = 3"
   ]
  },
  {
   "cell_type": "code",
   "execution_count": 45,
   "metadata": {},
   "outputs": [
    {
     "name": "stdout",
     "output_type": "stream",
     "text": [
      "Warning: Cannot change to a different GUI toolkit: notebook. Using widget instead.\n",
      "(681, 500, 443)\n"
     ]
    },
    {
     "data": {
      "application/vnd.jupyter.widget-view+json": {
       "model_id": "0497892f1f3d4f0cbdc22fee07f58191",
       "version_major": 2,
       "version_minor": 0
      },
      "text/plain": [
       "Canvas(toolbar=Toolbar(toolitems=[('Home', 'Reset original view', 'home', 'home'), ('Back', 'Back to previous …"
      ]
     },
     "metadata": {},
     "output_type": "display_data"
    }
   ],
   "source": [
    "%matplotlib notebook\r\n",
    "\r\n",
    "im = sitk.GetArrayFromImage(image)\r\n",
    "\r\n",
    "print(im.shape)\r\n",
    "\r\n",
    "y = im[100, 100,:]\r\n",
    "x = np.arange(len(y))\r\n",
    "\r\n",
    "#print(x)\r\n",
    "plt.plot(x,y)\r\n",
    "plt.show()"
   ]
  },
  {
   "cell_type": "code",
   "execution_count": null,
   "metadata": {},
   "outputs": [],
   "source": []
  }
 ],
 "metadata": {
  "interpreter": {
   "hash": "a44f62bfe310e58cc30aa77b22692f7d16881046dcf84271656705d1bde076db"
  },
  "kernelspec": {
   "display_name": "Python 3.8.5 64-bit ('base': conda)",
   "name": "python3"
  },
  "language_info": {
   "codemirror_mode": {
    "name": "ipython",
    "version": 3
   },
   "file_extension": ".py",
   "mimetype": "text/x-python",
   "name": "python",
   "nbconvert_exporter": "python",
   "pygments_lexer": "ipython3",
   "version": "3.8.5"
  }
 },
 "nbformat": 4,
 "nbformat_minor": 4
}