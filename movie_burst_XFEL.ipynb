{
 "cells": [
  {
   "cell_type": "code",
   "execution_count": 1,
   "metadata": {},
   "outputs": [],
   "source": [
    "import os\n",
    "import time as t\n",
    "import re\n",
    "import numpy as np\n",
    "import math\n",
    "from os import listdir\n",
    "from os.path import isfile, join\n",
    "\n",
    "from tqdm import tqdm\n",
    "import matplotlib.pyplot as plt\n",
    "import matplotlib.cm as cm\n",
    "import matplotlib.patches as patches\n",
    "import matplotlib.cm as cm\n",
    "from mpl_toolkits.axes_grid1.inset_locator import inset_axes\n",
    "import matplotlib.gridspec as gridspec\n",
    "from matplotlib.offsetbox import (TextArea, DrawingArea, OffsetImage,\n",
    "                                  AnnotationBbox)\n",
    "\n",
    "from scipy.ndimage import imread\n",
    "from scipy import ndimage\n",
    "from scipy.ndimage.filters import gaussian_filter\n",
    "\n",
    "from PIL import Image\n",
    "\n",
    "from utils import *"
   ]
  },
  {
   "cell_type": "code",
   "execution_count": 2,
   "metadata": {},
   "outputs": [
    {
     "name": "stdout",
     "output_type": "stream",
     "text": [
      "Velocity for 1 px: 3.6117381489841986\n"
     ]
    }
   ],
   "source": [
    "pixel_size = 3.2 # um\n",
    "frame_rate = 0.886 # um\n",
    "vel_factor = pixel_size / frame_rate\n",
    "\n",
    "print('Velocity for 1 px:', vel_factor)"
   ]
  },
  {
   "cell_type": "code",
   "execution_count": 3,
   "metadata": {},
   "outputs": [
    {
     "name": "stdout",
     "output_type": "stream",
     "text": [
      "60\n",
      "468 342\n"
     ]
    }
   ],
   "source": [
    "path_input = u'e:\\\\Data\\\\burst\\\\'\n",
    "path_output = u'e:\\\\Data\\\\burst\\\\movie\\\\'\n",
    "\n",
    "orig = read_tiff(path_input + 'vid_1_orig.tif', 100)\n",
    "flow = read_tiff(path_input + 'vid_2_flow.tif', 100)\n",
    "amp = read_tiff(path_input + 'vid_amp_raw.tif', 100)\n",
    "mask= read_tiff(path_input + 'vid_amp_mask_cleamed.tif', 100)\n",
    "\n",
    "frames_count = len(orig)\n",
    "print(frames_count)\n",
    "\n",
    "w = orig[0].shape[1]\n",
    "h = orig[0].shape[0]\n",
    "\n",
    "print(w, h)"
   ]
  },
  {
   "cell_type": "code",
   "execution_count": 4,
   "metadata": {},
   "outputs": [
    {
     "name": "stdout",
     "output_type": "stream",
     "text": [
      "[  0   2   3   4   5   6   7  10  11  12  13  14  15  18  19  20  21  22\n",
      "  23  25  26  27  28  29  30  33  34  35  36  37  38  41  42  43  44  45\n",
      "  46  49  50  51  52  53  54  56  57  58  59  60  61  62  63  64  65  66\n",
      "  67  68  69  70  71  72  73  74  75  76  77  78  79  80  81  82  83  84\n",
      "  85  86  87  88  89  90  91  92  93  94  95  96  97  98  99 100 101 102\n",
      " 103 104 105 106 107 108 109 110 111 112 113 114 115]\n"
     ]
    }
   ],
   "source": [
    "\n",
    "#index_remove_raw = np.array([2,9,10,17,18,25,32,33,40,41,48,49,56,64,71,72,79,\n",
    "#                             80,87,88,95,102,103,110,111,114,115]) - 1 \n",
    "index_remove_raw = np.array([2,9,10,17,18,25,32,33,40,41,48,49,56]) - 1 \n",
    "keep_indexs = np.arange(116)\n",
    "\n",
    "keep_indexs = np.delete(keep_indexs , index_remove_raw)\n",
    "print(keep_indexs)"
   ]
  },
  {
   "cell_type": "code",
   "execution_count": 5,
   "metadata": {},
   "outputs": [],
   "source": [
    "import matplotlib.image as image\n",
    "\n",
    "color_code = image.imread(path_input + '\\\\figures\\\\color.tif')\n",
    "vel_code = image.imread(path_input + '\\\\figures\\\\vel_bar.tif')"
   ]
  },
  {
   "cell_type": "code",
   "execution_count": 6,
   "metadata": {},
   "outputs": [],
   "source": [
    "plt.rc('text', usetex=True)\n",
    "plt.rc('font', family='sans-serif')"
   ]
  },
  {
   "cell_type": "code",
   "execution_count": null,
   "metadata": {},
   "outputs": [],
   "source": []
  },
  {
   "cell_type": "code",
   "execution_count": 8,
   "metadata": {},
   "outputs": [
    {
     "name": "stderr",
     "output_type": "stream",
     "text": [
      "100%|██████████████████████████████████████████| 60/60 [00:07<00:00,  7.53it/s]\n"
     ]
    }
   ],
   "source": [
    "\n",
    "fontsize = 27\n",
    "\n",
    "\n",
    "i = 10\n",
    "\n",
    "plt.style.use('default')\n",
    "\n",
    "#for i in tqdm(range(2,3)):\n",
    "for i in tqdm(range(len(orig))):\n",
    "\n",
    "\n",
    "    fig = plt.figure()\n",
    "\n",
    "    fig.set_size_inches(20, 8, forward=True)\n",
    "    plt.subplots_adjust(top=1.0, bottom=0.0, left=0.0, right=1.0, wspace=0.02, hspace=0.1 )\n",
    "\n",
    "    gs = gridspec.GridSpec(1, 3)\n",
    "\n",
    "    #-----------------------------\n",
    "    # Plot 1: Original\n",
    "    #-----------------------------\n",
    "    \n",
    "    ax0 = plt.subplot(gs[0, 0])\n",
    "    #bbox_props = dict(boxstyle=\"square\", fc=\"black\", ec=\"black\", alpha=0.5)\n",
    "    #ax0.text(10, 30, r't = {} $ \\mu$s'.format(keep_indexs[i]*frame_rate), fontsize=fontsize, color='white', weight='normal', bbox=bbox_props)\n",
    "    ax0.text(380-5-30, 30, r'{:.2f} $ \\mu$s'.format(keep_indexs[i]*frame_rate), fontsize=fontsize, color='white', weight='normal')\n",
    "    plt.axis('off')\n",
    "    plt.imshow(orig[i], cmap='gray')\n",
    "    \n",
    "    # Scale bar \n",
    "    width_for_100 = 32\n",
    "    upscale = 468/260\n",
    "    rect = patches.Rectangle((380-20,300),width_for_100*upscale,5,linewidth=1,edgecolor='w',facecolor='white')\n",
    "    ax0.add_patch(rect)\n",
    "    ax0.text(380-5-30, 300 + 32, r'100 $ \\mu$m', fontsize=fontsize, color='white', weight='normal')\n",
    "   \n",
    "\n",
    "    #-----------------------------\n",
    "    # Plot 2: Flow field\n",
    "    #-----------------------------\n",
    "    \n",
    "    ax1 = plt.subplot(gs[0, 1])\n",
    "    plt.axis('off')\n",
    "    plt.imshow(flow[i])\n",
    "    \n",
    "    # Flow color code\n",
    "    # draw only for the first frame \n",
    "    #if i == 0:\n",
    "    imagebox = OffsetImage(color_code, zoom=1.5)\n",
    "    ab = AnnotationBbox(imagebox, (420-5,52), pad=0)\n",
    "    ax1.add_artist(ab)\n",
    "     \n",
    "    #-----------------------------\n",
    "    # Plot 3: Magnitude\n",
    "    #-----------------------------\n",
    "    \n",
    "    res = amp[i]*mask[i]\n",
    "    \n",
    "\n",
    "    ax2 = plt.subplot(gs[0, 2])\n",
    "    plt.axis('off')\n",
    "    plt.imshow(res*vel_factor, vmax=10*vel_factor, cmap='inferno')\n",
    "    \n",
    "    # Color bar\n",
    "    # draw only for the first frame \n",
    "    if i == 0:\n",
    "        res[3:190, w-60:w-3] = 0\n",
    "        cbaxes = inset_axes(ax2, width=\"5%\", height=\"50%\", loc=1, borderpad=1) \n",
    "        cbaxes.tick_params(color='white', labelcolor='white', labelsize = 20)\n",
    "        cbaxes.patch.set_facecolor([1,1,0,0.5])\n",
    "        plt.colorbar(cax=cbaxes, orientation='vertical')\n",
    "        cbaxes.yaxis.set_ticks_position('left')\n",
    "    \n",
    "\n",
    "    fig.savefig(path_output + 'vid' + str(i).zfill(3) +'.tif')\n",
    "    plt.close()\n",
    "    #plt.show()"
   ]
  },
  {
   "cell_type": "code",
   "execution_count": null,
   "metadata": {},
   "outputs": [],
   "source": []
  },
  {
   "cell_type": "code",
   "execution_count": null,
   "metadata": {},
   "outputs": [],
   "source": []
  },
  {
   "cell_type": "code",
   "execution_count": null,
   "metadata": {},
   "outputs": [],
   "source": []
  },
  {
   "cell_type": "code",
   "execution_count": null,
   "metadata": {},
   "outputs": [],
   "source": []
  }
 ],
 "metadata": {
  "kernelspec": {
   "display_name": "Python 3",
   "language": "python",
   "name": "python3"
  },
  "language_info": {
   "codemirror_mode": {
    "name": "ipython",
    "version": 3
   },
   "file_extension": ".py",
   "mimetype": "text/x-python",
   "name": "python",
   "nbconvert_exporter": "python",
   "pygments_lexer": "ipython3",
   "version": "3.6.5"
  }
 },
 "nbformat": 4,
 "nbformat_minor": 2
}
